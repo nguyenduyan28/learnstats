import numpy as np


x = np.array([3, 4, 5])
y = np.array([4, 5, 7])


x + y 


x = np.array([[1, 2], [3, 4]])
x 


x.ndim # print dimension


x.dtype


np.array([[1, 2], [3.0, 4]]).dtype


np.array?


np.array([[1, 2], [3, 4]], float).dtype


x.shape


x = np.array([1, 2, 3, 4])
x.sum()


x = np.array([1, 2, 3, 4])
np.sum(x)


x = np.array([1, 2 , 3, 4, 5, 6])
print('begin x: \n', x)
x_reshape = x.reshape((2, 3))
print('reshaped x: \n', x_reshape)


my_tuple = (3, 4, 5)
my_tuple[2] = 6


x_reshape.shape, x_reshape.ndim, x_reshape.T


np.sqrt(x)


x ** 2


x ** 0.5



